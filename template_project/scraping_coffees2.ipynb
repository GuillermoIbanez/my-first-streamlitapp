{
 "cells": [
  {
   "cell_type": "code",
   "execution_count": 1,
   "id": "4ce8a698-1bb5-4df9-a99c-d71adcd259d9",
   "metadata": {},
   "outputs": [
    {
     "name": "stdout",
     "output_type": "stream",
     "text": [
      "Intel MKL WARNING: Support of Intel(R) Streaming SIMD Extensions 4.2 (Intel(R) SSE4.2) enabled only processors has been deprecated. Intel oneAPI Math Kernel Library 2025.0 will require Intel(R) Advanced Vector Extensions (Intel(R) AVX) instructions.\n",
      "Intel MKL WARNING: Support of Intel(R) Streaming SIMD Extensions 4.2 (Intel(R) SSE4.2) enabled only processors has been deprecated. Intel oneAPI Math Kernel Library 2025.0 will require Intel(R) Advanced Vector Extensions (Intel(R) AVX) instructions.\n"
     ]
    }
   ],
   "source": [
    "import json\n",
    "import requests\n",
    "import pandas as pd\n",
    "import matplotlib.pyplot as plt"
   ]
  },
  {
   "cell_type": "code",
   "execution_count": 2,
   "id": "dea99154-4586-41d9-991b-2350d3219ab3",
   "metadata": {},
   "outputs": [],
   "source": [
    "def get_posts_with_keyword(keyword, sample_size):\n",
    "    sample_size = abs(round(sample_size))\n",
    "    URL = f'https://mastodon.social/api/v1/timelines/tag/{keyword}'\n",
    "    params = {\n",
    "        'limit': 40\n",
    "    }\n",
    "    \n",
    "    results = []\n",
    "    \n",
    "    loop_max = round(sample_size / 40)\n",
    "    index = 0\n",
    "    while True:\n",
    "        if index == loop_max:\n",
    "            break\n",
    "        \n",
    "        r = requests.get(URL, params=params)\n",
    "        toots = json.loads(r.text)\n",
    "    \n",
    "        if len(toots) == 0:\n",
    "            break\n",
    "        \n",
    "        results.extend(toots)\n",
    "        \n",
    "        max_id = toots[-1]['id']\n",
    "        params['max_id'] = max_id\n",
    "    \n",
    "        index += 1\n",
    "        if index % 10 == 0:\n",
    "            print('loop counter: ' + str(index) + ' of ' + str(loop_max))\n",
    "        \n",
    "    df = pd.DataFrame(results)\n",
    "    return df"
   ]
  },
  {
   "cell_type": "code",
   "execution_count": 3,
   "id": "f8fb44a1-85cd-4d84-bb73-da1b87202604",
   "metadata": {},
   "outputs": [],
   "source": [
    "def keywords_occurrences_in_posts(dataframe, content_keyword_in_dataframe, keywords_to_search):\n",
    "    contents = list(dataframe[content_keyword_in_dataframe])\n",
    "    counter = 0\n",
    "    for content in contents:\n",
    "        content = content.lower().replace(\" \", \"\").replace(\"-\", \"\").replace(\"_\", \"\")\n",
    "        for keyword in keywords_to_search:\n",
    "            keyword = keyword.replace(\" \", \"\")\n",
    "            if keyword in content:\n",
    "                counter += 1\n",
    "                break\n",
    "    return counter / len(contents)"
   ]
  },
  {
   "cell_type": "code",
   "execution_count": 4,
   "id": "982eb8de-d643-4da5-ad7a-fb1e7a9c4fb2",
   "metadata": {},
   "outputs": [],
   "source": [
    "def keywords_occurrences_in_posts_for_two_dataframes(dataframe1, dataframe2, content_keyword_in_dataframe, keywords_to_search):\n",
    "    contents1 = list(dataframe1[content_keyword_in_dataframe])\n",
    "    counter1 = 0\n",
    "    for content in contents1:\n",
    "        content = content.lower().replace(\" \", \"\").replace(\"-\", \"\").replace(\"_\", \"\")\n",
    "        for keyword in keywords_to_search:\n",
    "            keyword = keyword.replace(\" \", \"\")\n",
    "            if keyword in content:\n",
    "                counter1 += 1\n",
    "                break\n",
    "    \n",
    "    contents2 = list(dataframe2[content_keyword_in_dataframe])\n",
    "    counter2 = 0\n",
    "    for content in contents2:\n",
    "        content = content.lower().replace(\" \", \"\").replace(\"-\", \"\").replace(\"_\", \"\")\n",
    "        for keyword in keywords_to_search:\n",
    "            keyword = keyword.replace(\" \", \"\")\n",
    "            if keyword in content:\n",
    "                counter2 += 1\n",
    "                break\n",
    "    \n",
    "    return [counter1 / len(contents1), counter2 / len(contents2)]"
   ]
  },
  {
   "cell_type": "code",
   "execution_count": 5,
   "id": "b9a14b32-2fd6-4f99-be2d-e2d29c8fbdab",
   "metadata": {},
   "outputs": [],
   "source": [
    "def plot_occurrences(dataframe, title, content_keyword_in_dataframe, keywords_list_to_search):\n",
    "    title_result = \"\"\n",
    "    for title_word in title.split(\" \"):\n",
    "        title_result += title_word.upper()[0] + title_word.lower()[1:]\n",
    "        title_result += \" \"\n",
    "    title = title_result.strip()\n",
    "\n",
    "    keywords_occurrences = {}\n",
    "    for keywords in keywords_list_to_search:\n",
    "        keywords_occurrences[keywords[0].upper()[0] + keywords[0].lower()[1:]] = keywords_occurrences_in_posts(dataframe, content_keyword_in_dataframe, keywords)\n",
    "    \n",
    "    keywords_occurrences = {k: v for k, v in sorted(keywords_occurrences.items(), key=lambda item: item[1])}\n",
    "    plt.bar(list(keywords_occurrences.keys()), list(keywords_occurrences.values()))\n",
    "    \n",
    "    plt.title('Keywords Occurrences in Percentages for Posts containing ' + title)\n",
    "    plt.xlabel('Keywords')\n",
    "    plt.ylabel('Occurrences in Percentages')\n",
    "    plt.yscale('log')\n",
    "    \n",
    "    yticks = [0.020, 0.010, 0.005, 0.002, 0.001]\n",
    "    plt.yticks(yticks, yticks)\n",
    "    \n",
    "    fig = plt.gcf()\n",
    "    fig.set_size_inches(12, 6)\n",
    "    fig.savefig('plot1.png', format='png', dpi=100)\n",
    "    \n",
    "    plt.show()\n",
    "    plt.close()"
   ]
  },
  {
   "cell_type": "code",
   "execution_count": 6,
   "id": "e439b2de-3c16-4180-8af8-99d86092bcdc",
   "metadata": {},
   "outputs": [],
   "source": [
    "def plot_occurrences_for_two_dataframes(dataframe1, dataframe2, title1, title2, content_keyword_in_dataframe, keywords_list_to_search):\n",
    "    title1_result = \"\"\n",
    "    for title1_word in title1.split(\" \"):\n",
    "        title1_result += title1_word.upper()[0] + title1_word.lower()[1:]\n",
    "        title1_result += \" \"\n",
    "    title1 = title1_result.strip()\n",
    "    \n",
    "    plt.bar([title1.upper()[0] + title1.lower()[1:], title2.upper()[0] + title2.lower()[1:]], keywords_occurrences_in_posts_for_two_dataframes(dataframe1, dataframe2, content_keyword_in_dataframe, keywords_list_to_search))\n",
    "    plt.title('Keywords Occurrences in Percentages for Posts containing ' + keywords_list_to_search[0].upper()[0] + keywords_list_to_search[0].lower()[1:])\n",
    "    plt.xlabel('Keywords')\n",
    "    plt.ylabel('Occurrences in Percentages')\n",
    "    \n",
    "    fig = plt.gcf()\n",
    "    fig.set_size_inches(6, 6)\n",
    "    fig.savefig('plot2.png', format='png', dpi=100)\n",
    "    \n",
    "    plt.show()\n",
    "    plt.close()"
   ]
  },
  {
   "cell_type": "code",
   "execution_count": 7,
   "id": "cc605d4d-10ac-4b20-92c5-56d2ba5fd3fd",
   "metadata": {},
   "outputs": [
    {
     "name": "stdout",
     "output_type": "stream",
     "text": [
      "10 of 250\n",
      "20 of 250\n",
      "30 of 250\n",
      "40 of 250\n",
      "50 of 250\n",
      "60 of 250\n",
      "70 of 250\n",
      "80 of 250\n",
      "90 of 250\n",
      "100 of 250\n",
      "110 of 250\n",
      "120 of 250\n",
      "130 of 250\n",
      "140 of 250\n",
      "150 of 250\n",
      "160 of 250\n",
      "170 of 250\n",
      "180 of 250\n",
      "190 of 250\n",
      "200 of 250\n",
      "210 of 250\n",
      "220 of 250\n",
      "230 of 250\n",
      "240 of 250\n",
      "250 of 250\n",
      "10 of 125\n",
      "20 of 125\n",
      "30 of 125\n",
      "40 of 125\n",
      "50 of 125\n"
     ]
    },
    {
     "ename": "KeyError",
     "evalue": "-1",
     "output_type": "error",
     "traceback": [
      "\u001b[0;31m---------------------------------------------------------------------------\u001b[0m",
      "\u001b[0;31mKeyError\u001b[0m                                  Traceback (most recent call last)",
      "Cell \u001b[0;32mIn[7], line 6\u001b[0m\n\u001b[1;32m      3\u001b[0m munich_sample_size \u001b[38;5;241m=\u001b[39m \u001b[38;5;241m5000\u001b[39m\n\u001b[1;32m      5\u001b[0m dataframe_coffee \u001b[38;5;241m=\u001b[39m get_posts_with_keyword(\u001b[38;5;124m'\u001b[39m\u001b[38;5;124mcoffee\u001b[39m\u001b[38;5;124m'\u001b[39m, coffee_sample_size)\n\u001b[0;32m----> 6\u001b[0m dataframe_frankfurt \u001b[38;5;241m=\u001b[39m get_posts_with_keyword(\u001b[38;5;124m'\u001b[39m\u001b[38;5;124mfrankfurt\u001b[39m\u001b[38;5;124m'\u001b[39m, frankfurt_sample_size)\n\u001b[1;32m      7\u001b[0m dataframe_munich \u001b[38;5;241m=\u001b[39m get_posts_with_keyword(\u001b[38;5;124m'\u001b[39m\u001b[38;5;124mmunich\u001b[39m\u001b[38;5;124m'\u001b[39m, munich_sample_size)\n\u001b[1;32m      9\u001b[0m plot_occurrences(dataframe_coffee, \u001b[38;5;124m'\u001b[39m\u001b[38;5;124mCoffee\u001b[39m\u001b[38;5;124m'\u001b[39m, \u001b[38;5;124m'\u001b[39m\u001b[38;5;124mcontent\u001b[39m\u001b[38;5;124m'\u001b[39m, [[\u001b[38;5;124m'\u001b[39m\u001b[38;5;124mespresso\u001b[39m\u001b[38;5;124m'\u001b[39m], [\u001b[38;5;124m'\u001b[39m\u001b[38;5;124mcaffe latte\u001b[39m\u001b[38;5;124m'\u001b[39m, \u001b[38;5;124m'\u001b[39m\u001b[38;5;124mcoffee latte\u001b[39m\u001b[38;5;124m'\u001b[39m, \u001b[38;5;124m'\u001b[39m\u001b[38;5;124mkaffee latte\u001b[39m\u001b[38;5;124m'\u001b[39m], [\u001b[38;5;124m'\u001b[39m\u001b[38;5;124mblack coffee\u001b[39m\u001b[38;5;124m'\u001b[39m, \u001b[38;5;124m'\u001b[39m\u001b[38;5;124mschwarzer kaffee\u001b[39m\u001b[38;5;124m'\u001b[39m], [\u001b[38;5;124m'\u001b[39m\u001b[38;5;124mmocha\u001b[39m\u001b[38;5;124m'\u001b[39m, \u001b[38;5;124m'\u001b[39m\u001b[38;5;124mmokka\u001b[39m\u001b[38;5;124m'\u001b[39m], [\u001b[38;5;124m'\u001b[39m\u001b[38;5;124mamericano\u001b[39m\u001b[38;5;124m'\u001b[39m], [\u001b[38;5;124m'\u001b[39m\u001b[38;5;124mcappuccino\u001b[39m\u001b[38;5;124m'\u001b[39m], [\u001b[38;5;124m'\u001b[39m\u001b[38;5;124mflat white\u001b[39m\u001b[38;5;124m'\u001b[39m], [\u001b[38;5;124m'\u001b[39m\u001b[38;5;124mcafe au lait\u001b[39m\u001b[38;5;124m'\u001b[39m, \u001b[38;5;124m'\u001b[39m\u001b[38;5;124mmilk coffee\u001b[39m\u001b[38;5;124m'\u001b[39m, \u001b[38;5;124m'\u001b[39m\u001b[38;5;124mmilchkaffee\u001b[39m\u001b[38;5;124m'\u001b[39m], [\u001b[38;5;124m'\u001b[39m\u001b[38;5;124mmacchiato\u001b[39m\u001b[38;5;124m'\u001b[39m], [\u001b[38;5;124m'\u001b[39m\u001b[38;5;124miced coffee\u001b[39m\u001b[38;5;124m'\u001b[39m, \u001b[38;5;124m'\u001b[39m\u001b[38;5;124meiskaffee\u001b[39m\u001b[38;5;124m'\u001b[39m]])\n",
      "Cell \u001b[0;32mIn[2], line 24\u001b[0m, in \u001b[0;36mget_posts_with_keyword\u001b[0;34m(keyword, sample_size)\u001b[0m\n\u001b[1;32m     20\u001b[0m     \u001b[38;5;28;01mbreak\u001b[39;00m\n\u001b[1;32m     22\u001b[0m results\u001b[38;5;241m.\u001b[39mextend(toots)\n\u001b[0;32m---> 24\u001b[0m max_id \u001b[38;5;241m=\u001b[39m toots[\u001b[38;5;241m-\u001b[39m\u001b[38;5;241m1\u001b[39m][\u001b[38;5;124m'\u001b[39m\u001b[38;5;124mid\u001b[39m\u001b[38;5;124m'\u001b[39m]\n\u001b[1;32m     25\u001b[0m params[\u001b[38;5;124m'\u001b[39m\u001b[38;5;124mmax_id\u001b[39m\u001b[38;5;124m'\u001b[39m] \u001b[38;5;241m=\u001b[39m max_id\n\u001b[1;32m     27\u001b[0m index \u001b[38;5;241m+\u001b[39m\u001b[38;5;241m=\u001b[39m \u001b[38;5;241m1\u001b[39m\n",
      "\u001b[0;31mKeyError\u001b[0m: -1"
     ]
    }
   ],
   "source": [
    "coffee_sample_size = 10000\n",
    "frankfurt_sample_size = 5000\n",
    "munich_sample_size = 5000\n",
    "\n",
    "dataframe_coffee = get_posts_with_keyword('coffee', coffee_sample_size)\n",
    "dataframe_frankfurt = get_posts_with_keyword('frankfurt', frankfurt_sample_size)\n",
    "dataframe_munich = get_posts_with_keyword('munich', munich_sample_size)\n",
    "\n",
    "plot_occurrences(dataframe_coffee, 'Coffee', 'content', [['espresso'], ['caffe latte', 'coffee latte', 'kaffee latte'], ['black coffee', 'schwarzer kaffee'], ['mocha', 'mokka'], ['americano'], ['cappuccino'], ['flat white'], ['cafe au lait', 'milk coffee', 'milchkaffee'], ['macchiato'], ['iced coffee', 'eiskaffee']])\n",
    "plot_occurrences_for_two_dataframes(dataframe_frankfurt, dataframe_munich, 'Frankfurt', 'München', 'content', ['coffee', 'kaffee'])"
   ]
  }
 ],
 "metadata": {
  "kernelspec": {
   "display_name": "michaelmarty_env",
   "language": "python",
   "name": "michaelmarty_env"
  },
  "language_info": {
   "codemirror_mode": {
    "name": "ipython",
    "version": 3
   },
   "file_extension": ".py",
   "mimetype": "text/x-python",
   "name": "python",
   "nbconvert_exporter": "python",
   "pygments_lexer": "ipython3",
   "version": "3.12.9"
  }
 },
 "nbformat": 4,
 "nbformat_minor": 5
}
